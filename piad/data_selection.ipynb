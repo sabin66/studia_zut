{
  "cells": [
    {
      "cell_type": "code",
      "source": [
        "import numpy as np\n",
        "import pandas as pd\n",
        " \n",
        "file = pd.read_csv(r\"C:\\Users\\DORIAN\\Desktop\\python\\zoo.csv\")\n",
        " \n",
        "# zadanie 1\n",
        "x = [1,1,1,2,2,2,1,2,3]\n",
        " \n",
        "def freq(x,prob):\n",
        "    xi = []\n",
        "    ni = []\n",
        "    for item in x:\n",
        "        if item not in xi:\n",
        "            xi.append(item)\n",
        "            ni.append(x.count(item))\n",
        " \n",
        "    if prob:\n",
        "        total = len(x)\n",
        "        p = [n/total for n in ni]\n",
        "        return xi,p\n",
        "    else:\n",
        "        return xi,ni\n",
        "   \n",
        "xi,pi = freq(x,prob=True)\n",
        "print(\"Unikalne wartości:\", xi)\n",
        "print(\"Prawdopodobieństwa:\", pi)\n",
        " \n",
        "xi, ni = freq(x, prob=False)\n",
        "print(\"Unikalne wartości:\", xi)\n",
        "print(\"Częstości:\", ni)\n",
        " \n",
        "# zadanie 2\n",
        "display(\"-------------------ZADANIE 2-------------------\")\n",
        "y = [1,2,1,2,1,2,1,2,1]\n",
        " \n",
        "def freq2(x, y, prob):\n",
        "    new = np.column_stack([x, y])  \n",
        "    unique, cnt = np.unique(new, axis=0, return_counts=True)\n",
        "   \n",
        "    xi = unique[:, 0]\n",
        "    yi = unique[:, 1]\n",
        " \n",
        "    total = len(x)\n",
        "    if prob:\n",
        "        p = cnt / total  \n",
        "        return xi, yi, p\n",
        "    else:\n",
        "        return xi, yi, cnt\n",
        " \n",
        "xi, yi, pi = freq2(x, y, prob=True)\n",
        "print(\"Unikalne wartości x:\", xi)\n",
        "print(\"Unikalne wartości y:\", yi)\n",
        "print(\"Prawdopodobieństwa:\", pi)\n",
        " \n",
        "xi, yi, ni = freq2(x, y, prob=False)\n",
        "print(\"Częstości:\", ni)\n",
        " \n",
        "# zadanie 3\n",
        "display(\"-------------------ZADANIE 3-------------------\")\n",
        "def entropy(x):\n",
        "    _,cnt = np.unique(x,return_counts=True)\n",
        "    p = cnt / cnt.sum()\n",
        "    return -np.sum(p * np.log2(p))\n",
        "\n",
        "def entropy_cond(y, x):\n",
        "    xi, pxi = freq(x, prob=True)\n",
        "    total = 0.0\n",
        "    for x_val, px in zip(xi, pxi):\n",
        "        y_subset = [y_val for x_val_curr, y_val in zip(x, y) if x_val_curr == x_val]\n",
        "        if len(y_subset) > 0:\n",
        "            total += px * entropy(y_subset)\n",
        "    return total\n",
        "\n",
        "\n",
        "hx = entropy(x)\n",
        "hy = entropy(y)\n",
        "_,_,probs = freq2(x,y,prob=True)\n",
        "hxy = -np.sum(probs * np.log2(probs,where=(probs>0)))\n",
        "\n",
        "print(\"Entropia : \", hx)\n",
        " \n",
        "def infogain(x,y):\n",
        "    hy = entropy(y)\n",
        "    hy_given_x = entropy_cond(y, x)\n",
        "    return hy - hy_given_x\n",
        " \n",
        "i = infogain(x,y)\n",
        "print(\"Entropia H(X):\", entropy(x))\n",
        "print(\"Entropia H(Y):\", entropy(y))\n",
        "print(\"Przyrost informacji I(Y,X):\", infogain(x, y))\n",
        "print(\"Przyrost informacji I(X,Y):\", infogain(y, x))\n",
        "# zadanie 4\n",
        "display(\"-------------------ZADANIE 4-------------------\")\n",
        "display(file.head())\n",
        "\n",
        "target = 'type'\n",
        "features = file.columns.drop(['animal', target])\n",
        "\n",
        "infogaing_results = {}\n",
        "for feature in features:\n",
        "    infogaing_results[feature] = infogain(file[feature].tolist(), file[target].tolist())\n",
        "\n",
        "sorted_ig = sorted(infogaing_results.items(), key=lambda item: item[1], reverse=True)\n",
        "\n",
        "print(\"przyrost informacji dla poszczegolnych cech:\")\n",
        "for feature, gain in sorted_ig:\n",
        "    print(f\"{feature: <12}: {gain:.4f}\")\n",
        "\n",
        "top_features = [feature for feature, gain in sorted_ig[:5]]\n",
        "print(\"\\n5 najbardziej informatywnych cech:\")\n",
        "print(top_features)\n",
        "\n",
        "# zadanie 5\n",
        "display(\"-------------------ZADANIE 5-------------------\")\n",
        "\n",
        "\n"
      ],
      "outputs": [
        {
          "output_type": "stream",
          "name": "stdout",
          "text": "Unikalne wartości: [1, 2, 3]\nPrawdopodobieństwa: [0.4444444444444444, 0.4444444444444444, 0.1111111111111111]\nUnikalne wartości: [1, 2, 3]\nCzęstości: [4, 4, 1]\n"
        },
        {
          "output_type": "display_data",
          "data": {
            "text/plain": "'-------------------ZADANIE 2-------------------'"
          },
          "metadata": {}
        },
        {
          "output_type": "stream",
          "name": "stdout",
          "text": "Unikalne wartości x: [1 1 2 2 3]\nUnikalne wartości y: [1 2 1 2 1]\nPrawdopodobieństwa: [0.33333333 0.11111111 0.11111111 0.33333333 0.11111111]\nCzęstości: [3 1 1 3 1]\n"
        },
        {
          "output_type": "display_data",
          "data": {
            "text/plain": "'-------------------ZADANIE 3-------------------'"
          },
          "metadata": {}
        },
        {
          "output_type": "stream",
          "name": "stdout",
          "text": "Entropia :  1.3921472236645345\nEntropia H(X): 1.3921472236645345\nEntropia H(Y): 0.9910760598382222\nPrzyrost informacji I(Y,X): 0.269939949207882\nPrzyrost informacji I(X,Y): 0.26993994920788156\n"
        },
        {
          "output_type": "display_data",
          "data": {
            "text/plain": "'-------------------ZADANIE 4-------------------'"
          },
          "metadata": {}
        },
        {
          "output_type": "display_data",
          "data": {
            "text/html": "<div>\n<style scoped>\n    .dataframe tbody tr th:only-of-type {\n        vertical-align: middle;\n    }\n\n    .dataframe tbody tr th {\n        vertical-align: top;\n    }\n\n    .dataframe thead th {\n        text-align: right;\n    }\n</style>\n<table border=\"1\" class=\"dataframe\">\n  <thead>\n    <tr style=\"text-align: right;\">\n      <th></th>\n      <th>animal</th>\n      <th>hair</th>\n      <th>feathers</th>\n      <th>eggs</th>\n      <th>milk</th>\n      <th>airborne</th>\n      <th>aquatic</th>\n      <th>predator</th>\n      <th>toothed</th>\n      <th>backbone</th>\n      <th>breathes</th>\n      <th>venomous</th>\n      <th>fins</th>\n      <th>legs</th>\n      <th>tail</th>\n      <th>domestic</th>\n      <th>catsize</th>\n      <th>type</th>\n    </tr>\n  </thead>\n  <tbody>\n    <tr>\n      <th>0</th>\n      <td>aardvark</td>\n      <td>True</td>\n      <td>False</td>\n      <td>False</td>\n      <td>True</td>\n      <td>False</td>\n      <td>False</td>\n      <td>True</td>\n      <td>True</td>\n      <td>True</td>\n      <td>True</td>\n      <td>False</td>\n      <td>False</td>\n      <td>4</td>\n      <td>False</td>\n      <td>False</td>\n      <td>True</td>\n      <td>mammal</td>\n    </tr>\n    <tr>\n      <th>1</th>\n      <td>antelope</td>\n      <td>True</td>\n      <td>False</td>\n      <td>False</td>\n      <td>True</td>\n      <td>False</td>\n      <td>False</td>\n      <td>False</td>\n      <td>True</td>\n      <td>True</td>\n      <td>True</td>\n      <td>False</td>\n      <td>False</td>\n      <td>4</td>\n      <td>True</td>\n      <td>False</td>\n      <td>True</td>\n      <td>mammal</td>\n    </tr>\n    <tr>\n      <th>2</th>\n      <td>bass</td>\n      <td>False</td>\n      <td>False</td>\n      <td>True</td>\n      <td>False</td>\n      <td>False</td>\n      <td>True</td>\n      <td>True</td>\n      <td>True</td>\n      <td>True</td>\n      <td>False</td>\n      <td>False</td>\n      <td>True</td>\n      <td>0</td>\n      <td>True</td>\n      <td>False</td>\n      <td>False</td>\n      <td>fish</td>\n    </tr>\n    <tr>\n      <th>3</th>\n      <td>bear</td>\n      <td>True</td>\n      <td>False</td>\n      <td>False</td>\n      <td>True</td>\n      <td>False</td>\n      <td>False</td>\n      <td>True</td>\n      <td>True</td>\n      <td>True</td>\n      <td>True</td>\n      <td>False</td>\n      <td>False</td>\n      <td>4</td>\n      <td>False</td>\n      <td>False</td>\n      <td>True</td>\n      <td>mammal</td>\n    </tr>\n    <tr>\n      <th>4</th>\n      <td>boar</td>\n      <td>True</td>\n      <td>False</td>\n      <td>False</td>\n      <td>True</td>\n      <td>False</td>\n      <td>False</td>\n      <td>True</td>\n      <td>True</td>\n      <td>True</td>\n      <td>True</td>\n      <td>False</td>\n      <td>False</td>\n      <td>4</td>\n      <td>True</td>\n      <td>False</td>\n      <td>True</td>\n      <td>mammal</td>\n    </tr>\n  </tbody>\n</table>\n</div>",
            "text/plain": "     animal   hair  feathers   eggs   milk  airborne  aquatic  predator  \\\n0  aardvark   True     False  False   True     False    False      True   \n1  antelope   True     False  False   True     False    False     False   \n2      bass  False     False   True  False     False     True      True   \n3      bear   True     False  False   True     False    False      True   \n4      boar   True     False  False   True     False    False      True   \n\n   toothed  backbone  breathes  venomous   fins  legs   tail  domestic  \\\n0     True      True      True     False  False     4  False     False   \n1     True      True      True     False  False     4   True     False   \n2     True      True     False     False   True     0   True     False   \n3     True      True      True     False  False     4  False     False   \n4     True      True      True     False  False     4   True     False   \n\n   catsize    type  \n0     True  mammal  \n1     True  mammal  \n2    False    fish  \n3     True  mammal  \n4     True  mammal  "
          },
          "metadata": {}
        },
        {
          "output_type": "stream",
          "name": "stdout",
          "text": "Przyrost informacji dla poszczególnych cech:\nlegs        : 1.3630\nmilk        : 0.9743\ntoothed     : 0.8657\neggs        : 0.8301\nhair        : 0.7907\nfeathers    : 0.7179\nbackbone    : 0.6762\nbreathes    : 0.6145\ntail        : 0.5005\nairborne    : 0.4697\nfins        : 0.4666\naquatic     : 0.3895\ncatsize     : 0.3085\nvenomous    : 0.1331\npredator    : 0.0934\ndomestic    : 0.0507\n\nTop 5 najbardziej informatywnych cech:\n['legs', 'milk', 'toothed', 'eggs', 'hair']\n"
        }
      ],
      "execution_count": null,
      "metadata": {}
    },
    {
      "cell_type": "code",
      "source": [],
      "outputs": [],
      "execution_count": null,
      "metadata": {}
    }
  ],
  "metadata": {
    "kernelspec": {
      "name": "python",
      "language": "python",
      "display_name": "Pyolite (preview)"
    },
    "language_info": {
      "codemirror_mode": {
        "name": "python",
        "version": 3
      },
      "file_extension": ".py",
      "mimetype": "text/x-python",
      "name": "python",
      "nbconvert_exporter": "python",
      "pygments_lexer": "ipython3",
      "version": "3.8"
    },
    "kernel_info": {
      "name": "python"
    },
    "nteract": {
      "version": "nteract-front-end@1.0.0"
    }
  },
  "nbformat": 4,
  "nbformat_minor": 2
}